{
  "nbformat": 4,
  "nbformat_minor": 0,
  "metadata": {
    "colab": {
      "provenance": []
    },
    "kernelspec": {
      "name": "python3",
      "display_name": "Python 3"
    },
    "language_info": {
      "name": "python"
    }
  },
  "cells": [
    {
      "cell_type": "code",
      "source": [
        "\"\"\"\n",
        "Identifies the Shortest 15 reviews and saves them in a seperate dataframe\n",
        "\"\"\""
      ],
      "metadata": {
        "colab": {
          "base_uri": "https://localhost:8080/",
          "height": 36
        },
        "id": "Kzv46Bj4URdb",
        "outputId": "4d783200-a314-44dc-f161-131c41d43de6"
      },
      "execution_count": 3,
      "outputs": [
        {
          "output_type": "execute_result",
          "data": {
            "text/plain": [
              "'\\n\\n'"
            ],
            "application/vnd.google.colaboratory.intrinsic+json": {
              "type": "string"
            }
          },
          "metadata": {},
          "execution_count": 3
        }
      ]
    },
    {
      "cell_type": "code",
      "source": [
        "from google.colab import drive\n",
        "drive.mount('/content/drive')"
      ],
      "metadata": {
        "id": "ZPBmsWl2lsbW"
      },
      "execution_count": null,
      "outputs": []
    },
    {
      "cell_type": "code",
      "source": [
        "import pandas as pd"
      ],
      "metadata": {
        "id": "ro1LCkZ_luif"
      },
      "execution_count": null,
      "outputs": []
    },
    {
      "cell_type": "code",
      "source": [
        "df = pd.read_csv('/content/drive/MyDrive/Navana Internship/IMDB Dataset.csv')"
      ],
      "metadata": {
        "id": "cfrulAs1mQAJ"
      },
      "execution_count": null,
      "outputs": []
    },
    {
      "cell_type": "code",
      "source": [
        "df.head(3)"
      ],
      "metadata": {
        "id": "ial3J7jIozag"
      },
      "execution_count": null,
      "outputs": []
    },
    {
      "cell_type": "code",
      "source": [
        "items_p = []\n",
        "items_n = []\n",
        "for ind, row in df.iterrows():\n",
        "    \n",
        "    if row['sentiment'] == 'positive':\n",
        "        items_p.append(row['review'].replace(\"<br />\", \"\"))\n",
        "    else:\n",
        "        items_n.append(row['review'].replace(\"<br />\", \"\"))"
      ],
      "metadata": {
        "id": "917yYmHImfqW"
      },
      "execution_count": null,
      "outputs": []
    },
    {
      "cell_type": "code",
      "source": [
        "items_p.sort()\n",
        "items_p = items_p[:15]\n",
        "items_n.sort()\n",
        "items_n = items_n[:15]"
      ],
      "metadata": {
        "id": "rOuVWlp1pcAq"
      },
      "execution_count": null,
      "outputs": []
    },
    {
      "cell_type": "code",
      "source": [
        "# Save the 15 shortest reviews\n",
        "df_p = pd.DataFrame(items_p, columns=['Reviews'])\n",
        "df_n = pd.DataFrame(items_n, columns=['Reviews'])\n",
        "\n",
        "# print dataframe.\n",
        "df_p, df_n"
      ],
      "metadata": {
        "colab": {
          "base_uri": "https://localhost:8080/"
        },
        "id": "mr-k-_2drso6",
        "outputId": "aac41deb-1a8c-463d-a5e9-912c38f8ac6c"
      },
      "execution_count": null,
      "outputs": [
        {
          "output_type": "execute_result",
          "data": {
            "text/plain": [
              "(                                              Reviews\n",
              " 0   \b\b\b\bA Turkish Bath sequence in a film noir loc...\n",
              " 1    I suppose this is not the best film ever made...\n",
              " 2    It's common knowledge and has been said befor...\n",
              " 3    What can I say? This is one of the most perfe...\n",
              " 4   \" Domino \" has been widely condemned on this s...\n",
              " 5   \" I have wrestled with death. It is the most u...\n",
              " 6   \" Now in India's sunny 'clime, where I use to ...\n",
              " 7   \" Så som i himmelen \" .. as above so below.. t...\n",
              " 8   \"... the beat is too strong ... we're deaf mut...\n",
              " 9   \"2001: A Space Odyssey\" is set in 2001 and the...\n",
              " 10  \"200l: A Space Odyssey\" is a supremely intrigu...\n",
              " 11  \"8 SIMPLE RULES... FOR DATING MY TEENAGE DAUGH...\n",
              " 12  \"9/11,\" hosted by Robert DeNiro, presents foot...\n",
              " 13  \"A Bug's Life\" is like a favorite candy bar --...\n",
              " 14  \"A Classic is something that everybody wants t...,\n",
              "                                               Reviews\n",
              " 0   !!! Spoiler alert!!!The point is, though, that...\n",
              " 1   !!!! MILD SPOILERS !!!!The premise goes like t...\n",
              " 2   !!!! MILD SPOILERS !!!!With the exception of T...\n",
              " 3   !!!! POSSIBLE MILD SPOILER !!!!!As I watched t...\n",
              " 4   !!!!! OF COURSE THERE'S SPOILERS !!!!! I'm sur...\n",
              " 5   !!!!! POSSIBLE SPOILER !!!!!You`d think a stor...\n",
              " 6   \" It had to be You\" is another sign that Holly...\n",
              " 7   \" While sporadically engrossing (including a f...\n",
              " 8   \"54\" is a film based on the infamous \"Studio 5...\n",
              " 9   \"A Christmas Story\" is one of many people's al...\n",
              " 10  \"A Damsel in Distress\" is definitely not one o...\n",
              " 11  \"A Gentleman's Game\" uses the game of golf in ...\n",
              " 12  \"A Guy Thing\" tries to capture the feeling of ...\n",
              " 13  \"A Texas community is beset with a rash of mys...\n",
              " 14  \"A Town Called Hell\" (aka \"A Town Called Basta...)"
            ]
          },
          "metadata": {},
          "execution_count": 60
        }
      ]
    },
    {
      "cell_type": "code",
      "source": [
        "df_p.to_csv('/content/drive/MyDrive/Navana Internship/15_shortest_positive.csv')\n",
        "df_n.to_csv('/content/drive/MyDrive/Navana Internship/15_shortest_negative.csv')"
      ],
      "metadata": {
        "id": "sRdQKnxWsPVZ"
      },
      "execution_count": null,
      "outputs": []
    }
  ]
}